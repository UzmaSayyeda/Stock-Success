{
 "cells": [
  {
   "cell_type": "code",
   "execution_count": 4,
   "id": "57984c37",
   "metadata": {},
   "outputs": [],
   "source": [
    "import sqlite3\n",
    "import csv\n",
    "import requests\n",
    "from config import API_KEY"
   ]
  },
  {
   "cell_type": "code",
   "execution_count": 23,
   "id": "bc4fd02d",
   "metadata": {},
   "outputs": [],
   "source": [
    "# Using Polygon"
   ]
  },
  {
   "cell_type": "code",
   "execution_count": 8,
   "id": "3532cb02",
   "metadata": {},
   "outputs": [],
   "source": [
    "from polygon import RESTClient\n",
    "\n",
    "client = RESTClient(API_KEY)"
   ]
  },
  {
   "cell_type": "code",
   "execution_count": 13,
   "id": "06eb53f7",
   "metadata": {},
   "outputs": [
    {
     "data": {
      "text/plain": [
       "<polygon.rest.RESTClient at 0x7fa060135900>"
      ]
     },
     "execution_count": 13,
     "metadata": {},
     "output_type": "execute_result"
    }
   ],
   "source": [
    "client"
   ]
  },
  {
   "cell_type": "code",
   "execution_count": 20,
   "id": "f92bad92",
   "metadata": {},
   "outputs": [
    {
     "name": "stdout",
     "output_type": "stream",
     "text": [
      "[Agg(open=172.7, high=172.91, low=172.4, close=172.51, volume=28577, vwap=172.652, timestamp=1696233600000, transactions=572, otc=None), Agg(open=172.5, high=172.5, low=171.33, close=171.33, volume=62604, vwap=171.8767, timestamp=1696237200000, transactions=1088, otc=None), Agg(open=171.42, high=171.61, low=171.03, close=171.23, volume=31810, vwap=171.3224, timestamp=1696240800000, transactions=787, otc=None), Agg(open=171.37, high=171.97, low=171.25, close=171.55, volume=82188, vwap=171.5598, timestamp=1696244400000, transactions=1548, otc=None), Agg(open=171.38, high=172.99, low=171.06, close=171.3, volume=186384, vwap=171.4188, timestamp=1696248000000, transactions=3748, otc=None), Agg(open=171.26, high=173.25, low=170.93, close=172.94, volume=6844674.0, vwap=172.6247, timestamp=1696251600000, transactions=72939, otc=None), Agg(open=172.94, high=174.04, low=172.8, close=173.009, volume=8714162.0, vwap=173.5064, timestamp=1696255200000, transactions=104783, otc=None), Agg(open=173.01, high=174.3, low=172.905, close=173.08, volume=6194528.0, vwap=173.6409, timestamp=1696258800000, transactions=115693, otc=None), Agg(open=173.09, high=173.53, low=172.82, close=173.18, volume=4269957.0, vwap=173.2355, timestamp=1696262400000, transactions=106781, otc=None), Agg(open=173.185, high=173.5799, low=172.73, close=173.13, volume=3671891.0, vwap=173.1978, timestamp=1696266000000, transactions=71222, otc=None), Agg(open=173.13, high=173.71, low=172.61, close=172.89, volume=4228157.0, vwap=173.0524, timestamp=1696269600000, transactions=45150, otc=None), Agg(open=172.88, high=173.78, low=172.533, close=173.75, volume=9337720.0, vwap=173.1597, timestamp=1696273200000, transactions=85990, otc=None), Agg(open=173.74, high=173.96, low=171.21, close=173.73, volume=3269810.0, vwap=173.7405, timestamp=1696276800000, transactions=3078, otc=None), Agg(open=173.75, high=173.78, low=173.64, close=173.65, volume=29441, vwap=173.7199, timestamp=1696280400000, transactions=566, otc=None), Agg(open=173.69, high=173.87, low=173.65, close=173.7, volume=19085, vwap=173.7773, timestamp=1696284000000, transactions=394, otc=None), Agg(open=173.75, high=173.94, low=173.63, close=173.82, volume=29811, vwap=173.7657, timestamp=1696287600000, transactions=490, otc=None), Agg(open=173.23, high=173.87, low=173.23, close=173.8, volume=36582, vwap=173.7491, timestamp=1696320000000, transactions=670, otc=None), Agg(open=173.67, high=173.67, low=173.23, close=173.34, volume=11598, vwap=173.4844, timestamp=1696323600000, transactions=315, otc=None), Agg(open=173.42, high=173.69, low=173.3, close=173.3, volume=7095, vwap=173.4845, timestamp=1696327200000, transactions=149, otc=None), Agg(open=173.33, high=173.37, low=172.36, close=172.75, volume=95759, vwap=172.885, timestamp=1696330800000, transactions=1904, otc=None), Agg(open=173.34, high=173.76, low=172.03, close=172.15, volume=197298, vwap=172.5494, timestamp=1696334400000, transactions=4762, otc=None), Agg(open=172.15, high=173.63, low=170.6365, close=173.27, volume=5676717.0, vwap=173.0344, timestamp=1696338000000, transactions=71872, otc=None), Agg(open=173.27, high=173.3, low=170.82, close=171.51, volume=9160387.0, vwap=171.6613, timestamp=1696341600000, transactions=164094, otc=None), Agg(open=171.5, high=171.985, low=171.36, close=171.75, volume=5209702.0, vwap=171.6551, timestamp=1696345200000, transactions=80006, otc=None), Agg(open=171.7482, high=172.69, low=171.69, close=172.56, volume=4973654.0, vwap=172.2629, timestamp=1696348800000, transactions=46807, otc=None), Agg(open=172.55, high=172.805, low=171.75, close=171.97, volume=3932914.0, vwap=172.1512, timestamp=1696352400000, transactions=39126, otc=None), Agg(open=171.97, high=172.4, low=171.551, close=172.27, volume=4156232.0, vwap=171.9586, timestamp=1696356000000, transactions=43672, otc=None), Agg(open=172.26, high=172.52, low=171.78, close=172.46, volume=8990645.0, vwap=172.1201, timestamp=1696359600000, transactions=81627, otc=None), Agg(open=172.4, high=172.55, low=172.09, close=172.13, volume=1531110.0, vwap=172.3461, timestamp=1696363200000, transactions=2014, otc=None), Agg(open=172.13, high=172.4, low=172, close=172.05, volume=160694, vwap=172.3671, timestamp=1696366800000, transactions=584, otc=None), Agg(open=172.05, high=172.19, low=171.94, close=172.08, volume=35044, vwap=172.0158, timestamp=1696370400000, transactions=477, otc=None), Agg(open=172.01, high=172.01, low=170.85, close=170.88, volume=189688, vwap=171.3586, timestamp=1696374000000, transactions=2629, otc=None), Agg(open=170.48, high=170.48, low=169.26, close=170.35, volume=124477, vwap=170.0107, timestamp=1696406400000, transactions=1852, otc=None), Agg(open=170.23, high=170.69, low=170, close=170.57, volume=43768, vwap=170.3846, timestamp=1696410000000, transactions=767, otc=None), Agg(open=170.6, high=170.9, low=170.35, close=170.72, volume=31629, vwap=170.6473, timestamp=1696413600000, transactions=547, otc=None), Agg(open=170.71, high=171.25, low=170.66, close=170.9, volume=162467, vwap=170.9194, timestamp=1696417200000, transactions=2753, otc=None), Agg(open=170.72, high=171.78, low=169.57, close=171.6, volume=484456, vwap=171.3501, timestamp=1696420800000, transactions=8653, otc=None), Agg(open=171.61, high=172.69, low=170.86, close=172.49, volume=7171271.0, vwap=172.0397, timestamp=1696424400000, transactions=87870, otc=None), Agg(open=172.48, high=173.49, low=171.87, close=172.45, volume=10049156.0, vwap=172.6399, timestamp=1696428000000, transactions=157565, otc=None), Agg(open=172.44, high=173.15, low=171.86, close=173.14, volume=5713454.0, vwap=172.6859, timestamp=1696431600000, transactions=86801, otc=None), Agg(open=173.14, high=173.29, low=172.81, close=173.11, volume=3593555.0, vwap=173.0703, timestamp=1696435200000, transactions=38003, otc=None), Agg(open=173.1, high=173.13, low=172.46, close=172.52, volume=3514243.0, vwap=172.7912, timestamp=1696438800000, transactions=38850, otc=None), Agg(open=172.515, high=173.1399, low=172.35, close=173.0792, volume=3534332.0, vwap=172.7373, timestamp=1696442400000, transactions=38713, otc=None), Agg(open=173.09, high=174.21, low=173.03, close=173.66, volume=11361156.0, vwap=173.6832, timestamp=1696446000000, transactions=93013, otc=None), Agg(open=173.66, high=173.66, low=173.11, close=173.5001, volume=1636197.0, vwap=173.6497, timestamp=1696449600000, transactions=2155, otc=None), Agg(open=173.52, high=173.66, low=173.22, close=173.31, volume=50637, vwap=173.3956, timestamp=1696453200000, transactions=791, otc=None), Agg(open=173.3, high=173.45, low=173.25, close=173.33, volume=36032, vwap=173.3329, timestamp=1696456800000, transactions=469, otc=None), Agg(open=173.31, high=173.43, low=173.26, close=173.27, volume=24012, vwap=173.3643, timestamp=1696460400000, transactions=394, otc=None), Agg(open=173.23, high=173.4, low=172.92, close=172.92, volume=11093, vwap=173.1829, timestamp=1696492800000, transactions=275, otc=None), Agg(open=172.9, high=173.09, low=172.8, close=173.05, volume=35472, vwap=172.9817, timestamp=1696496400000, transactions=340, otc=None), Agg(open=173.08, high=173.51, low=173.08, close=173.48, volume=12708, vwap=173.3396, timestamp=1696500000000, transactions=289, otc=None), Agg(open=173.41, high=173.85, low=173.34, close=173.77, volume=44280, vwap=173.6306, timestamp=1696503600000, transactions=628, otc=None), Agg(open=173.69, high=174.1106, low=172.8, close=173.3, volume=204711, vwap=173.4109, timestamp=1696507200000, transactions=4118, otc=None), Agg(open=173.27, high=174.408, low=173, close=173.8723, volume=5535393.0, vwap=173.881, timestamp=1696510800000, transactions=73808, otc=None), Agg(open=173.87, high=173.875, low=172.68, close=173, volume=7213443.0, vwap=173.2256, timestamp=1696514400000, transactions=129394, otc=None), Agg(open=173, high=173.83, low=172.83, close=173.4801, volume=5927986.0, vwap=173.3998, timestamp=1696518000000, transactions=80031, otc=None), Agg(open=173.485, high=174.03, low=173.36, close=173.947, volume=4810814.0, vwap=173.8441, timestamp=1696521600000, transactions=38613, otc=None), Agg(open=173.9446, high=175.03, low=173.645, close=174.89, volume=5704070.0, vwap=174.4192, timestamp=1696525200000, transactions=54440, otc=None), Agg(open=174.88, high=175.45, low=174.75, close=175.33, volume=5262443.0, vwap=175.1441, timestamp=1696528800000, transactions=49634, otc=None), Agg(open=175.335, high=175.39, low=174.84, close=174.97, volume=7008528.0, vwap=175.0528, timestamp=1696532400000, transactions=72428, otc=None), Agg(open=174.95, high=174.97, low=174.72, close=174.8398, volume=1142950.0, vwap=174.9033, timestamp=1696536000000, transactions=1506, otc=None), Agg(open=174.91, high=174.91, low=174.76, close=174.7697, volume=38605, vwap=174.837, timestamp=1696539600000, transactions=414, otc=None), Agg(open=174.77, high=174.84, low=174.76, close=174.77, volume=10910, vwap=174.787, timestamp=1696543200000, transactions=241, otc=None), Agg(open=174.78, high=174.81, low=174.67, close=174.75, volume=21751, vwap=174.7487, timestamp=1696546800000, transactions=311, otc=None), Agg(open=175.08, high=175.22, low=174.87, close=174.88, volume=19171, vwap=175.0024, timestamp=1696579200000, transactions=358, otc=None), Agg(open=174.82, high=175.1, low=174.82, close=175.08, volume=10147, vwap=175.0376, timestamp=1696582800000, transactions=159, otc=None), Agg(open=175.08, high=175.5, low=175.08, close=175.35, volume=17225, vwap=175.316, timestamp=1696586400000, transactions=291, otc=None), Agg(open=175.36, high=175.56, low=175.1, close=175.15, volume=53556, vwap=175.3336, timestamp=1696590000000, transactions=982, otc=None), Agg(open=175.4105, high=175.59, low=172.75, close=173.29, volume=642185, vwap=173.4639, timestamp=1696593600000, transactions=10077, otc=None), Agg(open=173.29, high=175.06, low=173.04, close=174.03, volume=6277595.0, vwap=173.973, timestamp=1696597200000, transactions=83221, otc=None), Agg(open=174.04, high=175.28, low=173.35, close=175.13, volume=8150237.0, vwap=174.518, timestamp=1696600800000, transactions=141426, otc=None), Agg(open=175.1324, high=176.84, low=175.09, close=176.7987, volume=7569166.0, vwap=175.8338, timestamp=1696604400000, transactions=108041, otc=None), Agg(open=176.795, high=177.05, low=176.31, close=176.82, volume=5562087.0, vwap=176.732, timestamp=1696608000000, transactions=54548, otc=None), Agg(open=176.83, high=177.39, low=176.69, close=177.2799, volume=4884325.0, vwap=177.1333, timestamp=1696611600000, transactions=47741, otc=None), Agg(open=177.275, high=177.7059, low=177.13, close=177.54, volume=4206125.0, vwap=177.4362, timestamp=1696615200000, transactions=44604, otc=None), Agg(open=177.535, high=177.99, low=177.4, close=177.49, volume=10472751.0, vwap=177.6628, timestamp=1696618800000, transactions=96467, otc=None), Agg(open=177.49, high=177.7, low=177.45, close=177.57, volume=2004768.0, vwap=177.4972, timestamp=1696622400000, transactions=2640, otc=None), Agg(open=177.53, high=177.56, low=177.5, close=177.53, volume=25256, vwap=177.4274, timestamp=1696626000000, transactions=560, otc=None), Agg(open=177.54, high=177.59, low=177.51, close=177.53, volume=17731, vwap=177.5502, timestamp=1696629600000, transactions=342, otc=None), Agg(open=177.52, high=177.77, low=177.51, close=177.72, volume=26127, vwap=177.6349, timestamp=1696633200000, transactions=468, otc=None), Agg(open=176, high=176.3, low=175.73, close=176.18, volume=41901, vwap=175.9728, timestamp=1696838400000, transactions=950, otc=None), Agg(open=176.1, high=176.17, low=175.84, close=175.88, volume=16149, vwap=175.974, timestamp=1696842000000, transactions=286, otc=None), Agg(open=175.99, high=176.35, low=175.99, close=176, volume=44399, vwap=176.1391, timestamp=1696845600000, transactions=704, otc=None), Agg(open=175.98, high=176.08, low=175.85, close=176.01, volume=84854, vwap=175.9839, timestamp=1696849200000, transactions=1577, otc=None), Agg(open=175.94, high=176.4899, low=175.5, close=176.3387, volume=261414, vwap=176.1685, timestamp=1696852800000, transactions=4507, otc=None), Agg(open=176.35, high=177.299, low=175.8, close=177.18, volume=5543977.0, vwap=176.6338, timestamp=1696856400000, transactions=74845, otc=None), Agg(open=177.18, high=177.36, low=176.2006, close=176.37, volume=5643896.0, vwap=176.6911, timestamp=1696860000000, transactions=129431, otc=None), Agg(open=176.365, high=177.23, low=176.19, close=177.195, volume=4378737.0, vwap=176.815, timestamp=1696863600000, transactions=100677, otc=None), Agg(open=177.2, high=178.07, low=177.18, close=177.6, volume=4204806.0, vwap=177.6566, timestamp=1696867200000, transactions=41740, otc=None), Agg(open=177.61, high=178.79, low=177.56, close=178.72, volume=4095296.0, vwap=178.1939, timestamp=1696870800000, transactions=39008, otc=None), Agg(open=178.72, high=179.04, low=178.42, close=178.8879, volume=4934020.0, vwap=178.8138, timestamp=1696874400000, transactions=45663, otc=None), Agg(open=178.89, high=179.05, low=177.71, close=179, volume=7552111.0, vwap=178.881, timestamp=1696878000000, transactions=73212, otc=None), Agg(open=178.99, high=179.01, low=178.81, close=178.87, volume=1390028.0, vwap=178.9847, timestamp=1696881600000, transactions=2042, otc=None), Agg(open=178.84, high=178.9, low=178.81, close=178.82, volume=13479, vwap=178.8324, timestamp=1696885200000, transactions=370, otc=None), Agg(open=178.87, high=178.89, low=178.79, close=178.85, volume=21036, vwap=178.8293, timestamp=1696888800000, transactions=439, otc=None), Agg(open=178.85, high=179, low=178.82, close=178.88, volume=26173, vwap=178.9122, timestamp=1696892400000, transactions=489, otc=None), Agg(open=179, high=179.35, low=178.85, close=179.35, volume=32811, vwap=179.1369, timestamp=1696924800000, transactions=712, otc=None), Agg(open=179.3, high=179.3, low=179.1, close=179.12, volume=14167, vwap=179.2073, timestamp=1696928400000, transactions=292, otc=None), Agg(open=179.14, high=179.18, low=178.82, close=178.82, volume=23594, vwap=179.0642, timestamp=1696932000000, transactions=533, otc=None), Agg(open=178.89, high=178.89, low=177.7, close=177.7, volume=129518, vwap=178.2295, timestamp=1696935600000, transactions=2524, otc=None), Agg(open=178.25, high=179.11, low=177.7, close=178.15, volume=218372, vwap=178.2351, timestamp=1696939200000, transactions=4802, otc=None), Agg(open=178.03, high=179.16, low=177.85, close=178.63, volume=5026454.0, vwap=178.4583, timestamp=1696942800000, transactions=69108, otc=None), Agg(open=178.63, high=179.43, low=178.35, close=179.32, volume=6376259.0, vwap=179.0098, timestamp=1696946400000, transactions=132533, otc=None), Agg(open=179.33, high=179.68, low=179.13, close=179.565, volume=4425046.0, vwap=179.4873, timestamp=1696950000000, transactions=81643, otc=None), Agg(open=179.56, high=179.72, low=179.35, close=179.51, volume=2802223.0, vwap=179.5436, timestamp=1696953600000, transactions=36862, otc=None), Agg(open=179.5, high=179.644, low=178.04, close=178.275, volume=5701802.0, vwap=178.5046, timestamp=1696957200000, transactions=58433, otc=None), Agg(open=178.27, high=178.63, low=177.95, close=178.175, volume=4464779.0, vwap=178.2524, timestamp=1696960800000, transactions=50290, otc=None), Agg(open=178.175, high=178.9099, low=178.07, close=178.41, volume=8197017.0, vwap=178.474, timestamp=1696964400000, transactions=82154, otc=None), Agg(open=178.39, high=178.58, low=178.3, close=178.37, volume=1014292.0, vwap=178.3929, timestamp=1696968000000, transactions=1563, otc=None), Agg(open=178.35, high=178.49, low=178.31, close=178.31, volume=35971, vwap=178.374, timestamp=1696971600000, transactions=532, otc=None), Agg(open=178.34, high=178.45, low=178.33, close=178.45, volume=28124, vwap=178.3925, timestamp=1696975200000, transactions=354, otc=None), Agg(open=178.45, high=178.54, low=178.41, close=178.54, volume=10795, vwap=178.4581, timestamp=1696978800000, transactions=287, otc=None)]\n"
     ]
    }
   ],
   "source": [
    "ticker = \"AAPL\"\n",
    "aggs = []\n",
    "for a in client.list_aggs(ticker=ticker, multiplier=1, timespan=\"hour\", from_=\"2023-10-01\", to=\"2023-10-11\", limit=50000):\n",
    "    aggs.append(a)\n",
    "\n",
    "print(aggs)"
   ]
  },
  {
   "cell_type": "code",
   "execution_count": 21,
   "id": "c4396a46",
   "metadata": {},
   "outputs": [
    {
     "data": {
      "text/html": [
       "<div>\n",
       "<style scoped>\n",
       "    .dataframe tbody tr th:only-of-type {\n",
       "        vertical-align: middle;\n",
       "    }\n",
       "\n",
       "    .dataframe tbody tr th {\n",
       "        vertical-align: top;\n",
       "    }\n",
       "\n",
       "    .dataframe thead th {\n",
       "        text-align: right;\n",
       "    }\n",
       "</style>\n",
       "<table border=\"1\" class=\"dataframe\">\n",
       "  <thead>\n",
       "    <tr style=\"text-align: right;\">\n",
       "      <th></th>\n",
       "      <th>open</th>\n",
       "      <th>high</th>\n",
       "      <th>low</th>\n",
       "      <th>close</th>\n",
       "      <th>volume</th>\n",
       "      <th>vwap</th>\n",
       "      <th>timestamp</th>\n",
       "      <th>transactions</th>\n",
       "      <th>otc</th>\n",
       "    </tr>\n",
       "  </thead>\n",
       "  <tbody>\n",
       "    <tr>\n",
       "      <th>0</th>\n",
       "      <td>172.700</td>\n",
       "      <td>172.9100</td>\n",
       "      <td>172.40</td>\n",
       "      <td>172.51</td>\n",
       "      <td>28577.0</td>\n",
       "      <td>172.6520</td>\n",
       "      <td>1696233600000</td>\n",
       "      <td>572</td>\n",
       "      <td>None</td>\n",
       "    </tr>\n",
       "    <tr>\n",
       "      <th>1</th>\n",
       "      <td>172.500</td>\n",
       "      <td>172.5000</td>\n",
       "      <td>171.33</td>\n",
       "      <td>171.33</td>\n",
       "      <td>62604.0</td>\n",
       "      <td>171.8767</td>\n",
       "      <td>1696237200000</td>\n",
       "      <td>1088</td>\n",
       "      <td>None</td>\n",
       "    </tr>\n",
       "    <tr>\n",
       "      <th>2</th>\n",
       "      <td>171.420</td>\n",
       "      <td>171.6100</td>\n",
       "      <td>171.03</td>\n",
       "      <td>171.23</td>\n",
       "      <td>31810.0</td>\n",
       "      <td>171.3224</td>\n",
       "      <td>1696240800000</td>\n",
       "      <td>787</td>\n",
       "      <td>None</td>\n",
       "    </tr>\n",
       "    <tr>\n",
       "      <th>3</th>\n",
       "      <td>171.370</td>\n",
       "      <td>171.9700</td>\n",
       "      <td>171.25</td>\n",
       "      <td>171.55</td>\n",
       "      <td>82188.0</td>\n",
       "      <td>171.5598</td>\n",
       "      <td>1696244400000</td>\n",
       "      <td>1548</td>\n",
       "      <td>None</td>\n",
       "    </tr>\n",
       "    <tr>\n",
       "      <th>4</th>\n",
       "      <td>171.380</td>\n",
       "      <td>172.9900</td>\n",
       "      <td>171.06</td>\n",
       "      <td>171.30</td>\n",
       "      <td>186384.0</td>\n",
       "      <td>171.4188</td>\n",
       "      <td>1696248000000</td>\n",
       "      <td>3748</td>\n",
       "      <td>None</td>\n",
       "    </tr>\n",
       "    <tr>\n",
       "      <th>...</th>\n",
       "      <td>...</td>\n",
       "      <td>...</td>\n",
       "      <td>...</td>\n",
       "      <td>...</td>\n",
       "      <td>...</td>\n",
       "      <td>...</td>\n",
       "      <td>...</td>\n",
       "      <td>...</td>\n",
       "      <td>...</td>\n",
       "    </tr>\n",
       "    <tr>\n",
       "      <th>107</th>\n",
       "      <td>178.175</td>\n",
       "      <td>178.9099</td>\n",
       "      <td>178.07</td>\n",
       "      <td>178.41</td>\n",
       "      <td>8197017.0</td>\n",
       "      <td>178.4740</td>\n",
       "      <td>1696964400000</td>\n",
       "      <td>82154</td>\n",
       "      <td>None</td>\n",
       "    </tr>\n",
       "    <tr>\n",
       "      <th>108</th>\n",
       "      <td>178.390</td>\n",
       "      <td>178.5800</td>\n",
       "      <td>178.30</td>\n",
       "      <td>178.37</td>\n",
       "      <td>1014292.0</td>\n",
       "      <td>178.3929</td>\n",
       "      <td>1696968000000</td>\n",
       "      <td>1563</td>\n",
       "      <td>None</td>\n",
       "    </tr>\n",
       "    <tr>\n",
       "      <th>109</th>\n",
       "      <td>178.350</td>\n",
       "      <td>178.4900</td>\n",
       "      <td>178.31</td>\n",
       "      <td>178.31</td>\n",
       "      <td>35971.0</td>\n",
       "      <td>178.3740</td>\n",
       "      <td>1696971600000</td>\n",
       "      <td>532</td>\n",
       "      <td>None</td>\n",
       "    </tr>\n",
       "    <tr>\n",
       "      <th>110</th>\n",
       "      <td>178.340</td>\n",
       "      <td>178.4500</td>\n",
       "      <td>178.33</td>\n",
       "      <td>178.45</td>\n",
       "      <td>28124.0</td>\n",
       "      <td>178.3925</td>\n",
       "      <td>1696975200000</td>\n",
       "      <td>354</td>\n",
       "      <td>None</td>\n",
       "    </tr>\n",
       "    <tr>\n",
       "      <th>111</th>\n",
       "      <td>178.450</td>\n",
       "      <td>178.5400</td>\n",
       "      <td>178.41</td>\n",
       "      <td>178.54</td>\n",
       "      <td>10795.0</td>\n",
       "      <td>178.4581</td>\n",
       "      <td>1696978800000</td>\n",
       "      <td>287</td>\n",
       "      <td>None</td>\n",
       "    </tr>\n",
       "  </tbody>\n",
       "</table>\n",
       "<p>112 rows × 9 columns</p>\n",
       "</div>"
      ],
      "text/plain": [
       "        open      high     low   close     volume      vwap      timestamp  \\\n",
       "0    172.700  172.9100  172.40  172.51    28577.0  172.6520  1696233600000   \n",
       "1    172.500  172.5000  171.33  171.33    62604.0  171.8767  1696237200000   \n",
       "2    171.420  171.6100  171.03  171.23    31810.0  171.3224  1696240800000   \n",
       "3    171.370  171.9700  171.25  171.55    82188.0  171.5598  1696244400000   \n",
       "4    171.380  172.9900  171.06  171.30   186384.0  171.4188  1696248000000   \n",
       "..       ...       ...     ...     ...        ...       ...            ...   \n",
       "107  178.175  178.9099  178.07  178.41  8197017.0  178.4740  1696964400000   \n",
       "108  178.390  178.5800  178.30  178.37  1014292.0  178.3929  1696968000000   \n",
       "109  178.350  178.4900  178.31  178.31    35971.0  178.3740  1696971600000   \n",
       "110  178.340  178.4500  178.33  178.45    28124.0  178.3925  1696975200000   \n",
       "111  178.450  178.5400  178.41  178.54    10795.0  178.4581  1696978800000   \n",
       "\n",
       "     transactions   otc  \n",
       "0             572  None  \n",
       "1            1088  None  \n",
       "2             787  None  \n",
       "3            1548  None  \n",
       "4            3748  None  \n",
       "..            ...   ...  \n",
       "107         82154  None  \n",
       "108          1563  None  \n",
       "109           532  None  \n",
       "110           354  None  \n",
       "111           287  None  \n",
       "\n",
       "[112 rows x 9 columns]"
      ]
     },
     "execution_count": 21,
     "metadata": {},
     "output_type": "execute_result"
    }
   ],
   "source": [
    "import pandas as pd\n",
    "df = pd.DataFrame(aggs)\n",
    "df"
   ]
  },
  {
   "cell_type": "code",
   "execution_count": 22,
   "id": "63318800",
   "metadata": {},
   "outputs": [],
   "source": [
    "# Using Yahoo Finance"
   ]
  },
  {
   "cell_type": "code",
   "execution_count": 24,
   "id": "dbc8aac7",
   "metadata": {},
   "outputs": [],
   "source": [
    "import yfinance as yf\n",
    "from datetime import datetime"
   ]
  },
  {
   "cell_type": "code",
   "execution_count": 25,
   "id": "0aa61565",
   "metadata": {},
   "outputs": [],
   "source": [
    "start_date = datetime.now() - pd.DateOffset(months=3)\n",
    "end_date = datetime.now()"
   ]
  },
  {
   "cell_type": "code",
   "execution_count": 26,
   "id": "afeaacd1",
   "metadata": {},
   "outputs": [],
   "source": [
    "tickers = ['AAPL', 'MSFT', 'NFLX', 'GOOG']"
   ]
  },
  {
   "cell_type": "code",
   "execution_count": null,
   "id": "6619cc2a",
   "metadata": {},
   "outputs": [],
   "source": []
  }
 ],
 "metadata": {
  "kernelspec": {
   "display_name": "Python 3 (ipykernel)",
   "language": "python",
   "name": "python3"
  },
  "language_info": {
   "codemirror_mode": {
    "name": "ipython",
    "version": 3
   },
   "file_extension": ".py",
   "mimetype": "text/x-python",
   "name": "python",
   "nbconvert_exporter": "python",
   "pygments_lexer": "ipython3",
   "version": "3.10.13"
  }
 },
 "nbformat": 4,
 "nbformat_minor": 5
}
